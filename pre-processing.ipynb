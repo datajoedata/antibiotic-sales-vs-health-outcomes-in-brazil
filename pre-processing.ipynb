{
 "cells": [
  {
   "cell_type": "markdown",
   "id": "3e2c809c",
   "metadata": {},
   "source": [
    "# Pre-processing steps"
   ]
  },
  {
   "cell_type": "markdown",
   "id": "c3e03b59",
   "metadata": {},
   "source": [
    "# Part 1: Making a python script that iterates all my csv files inside a folder and drops unnecessary columns in all of them. \n",
    "\n"
   ]
  },
  {
   "cell_type": "code",
   "execution_count": 1,
   "id": "e768bba3",
   "metadata": {},
   "outputs": [],
   "source": [
    "import pandas as pd\n",
    "import glob\n",
    "import os"
   ]
  },
  {
   "cell_type": "code",
   "execution_count": null,
   "id": "9b4b8cbb",
   "metadata": {},
   "outputs": [],
   "source": [
    "# 1.1 - Obtaining all csv files in the folder: \n",
    "\n",
    "folder_path = r\"specific_folder\"\n",
    "\n",
    "csv_files = glob.glob(folder_path + \"/*.csv\")\n",
    "\n",
    "\n",
    "# 1.2 - Iterate over each CSV file and execute the code.\n",
    "\n",
    "for file_path in csv_files:\n",
    "    # Load the csv file into a Pandas Dataframe using \"cp1252\" encoding \n",
    "    df = pd.read_csv(file_path, sep=\";\", encoding=\"cp1252\")\n",
    "\n",
    "    # Drop columns 'DESCRICAO_APRESENTACAO', 'CONSELHO_PRESCRITOR', 'UF_CONSELHO_PRESCRITOR'\n",
    "    columns_to_drop = ['DESCRICAO_APRESENTACAO', 'CONSELHO_PRESCRITOR', 'UF_CONSELHO_PRESCRITOR']\n",
    "    df.drop(columns=columns_to_drop, inplace=True)\n",
    "\n",
    "    # Save the modified DataFrame to a new CSV file.\n",
    "    output_file_path = file_path[:-4] + \"_modified.csv\"  # Adiciona \"_modified\" ao nome do arquivo\n",
    "    df.to_csv(output_file_path, index=False, sep=\";\", encoding=\"cp1252\") \n",
    "\n",
    "\n",
    "\n"
   ]
  },
  {
   "cell_type": "markdown",
   "id": "dafd9e21",
   "metadata": {},
   "source": [
    "# Part 2: Finding max column lenghts to create trustworthy target table in SQL"
   ]
  },
  {
   "cell_type": "code",
   "execution_count": 2,
   "id": "11cf5c9c",
   "metadata": {},
   "outputs": [
    {
     "name": "stdout",
     "output_type": "stream",
     "text": [
      "ANO_VENDA             4\n",
      "MES_VENDA             2\n",
      "UF_VENDA              2\n",
      "MUNICIPIO_VENDA      32\n",
      "PRINCIPIO_ATIVO     331\n",
      "QTD_VENDIDA           7\n",
      "UNIDADE_MEDIDA        6\n",
      "TIPO_RECEITUARIO      3\n",
      "CID10                 4\n",
      "SEXO                  3\n",
      "IDADE                 5\n",
      "UNIDADE_IDADE         3\n",
      "dtype: int64\n"
     ]
    }
   ],
   "source": [
    "file_path = r \"EDA_Industrializados_202110_modified.csv\" \n",
    "df = pd.read_csv(file_path, sep=\";\", encoding=\"cp1252\")\n",
    "\n",
    "# Função para calcular o comprimento máximo de cada valor em uma coluna\n",
    "def max_length(column):\n",
    "    return max(len(str(value)) for value in column)\n",
    "\n",
    "# Calcular o tamanho máximo de cada coluna\n",
    "column_lengths = df.apply(max_length)\n",
    "\n",
    "# Mostrar os tamanhos máximos de cada coluna\n",
    "print(column_lengths)"
   ]
  },
  {
   "cell_type": "markdown",
   "id": "9fe59522",
   "metadata": {},
   "source": [
    "# Part 3: Creating a table for double checking after inserting data into db"
   ]
  },
  {
   "cell_type": "code",
   "execution_count": null,
   "id": "87bbace6",
   "metadata": {},
   "outputs": [],
   "source": [
    "# Create an empty list to store the results\n",
    "results = []\n",
    "\n",
    "# 1.2 - Iterate over each CSV file and execute the code.\n",
    "for file_path in csv_files:\n",
    "    try:\n",
    "        # Load the csv file into a Pandas DataFrame\n",
    "        df = pd.read_csv(file_path, sep=\";\", encoding=\"cp1252\")\n",
    "\n",
    "        # Get the number of rows in the DataFrame\n",
    "        row_count = df.shape[0]\n",
    "\n",
    "        # Extract the year and month from the file name directly\n",
    "        file_name = os.path.basename(file_path)\n",
    "        year = int(file_name.split(\"_\")[2][:4])\n",
    "        month = int(file_name.split(\"_\")[2][4:6])\n",
    "\n",
    "        # Append the results to the list\n",
    "        results.append((year, month, row_count))\n",
    "    except pd.errors.ParserError as e:\n",
    "        print(f\"Error reading file: {file_path} - {e}\")\n",
    "\n",
    "# Create a new DataFrame from the results list\n",
    "columns = ['year', 'month', 'count']\n",
    "new_df = pd.DataFrame(results, columns=columns)\n",
    "\n",
    "# Save the new DataFrame to a CSV file\n",
    "output_file_path = r\"(...)\\matching_table00.csv\"\n",
    "new_df.to_csv(output_file_path, index=False, sep=\";\", encoding=\"cp1252\")\n"
   ]
  }
 ],
 "metadata": {
  "kernelspec": {
   "display_name": "Python 3 (ipykernel)",
   "language": "python",
   "name": "python3"
  },
  "language_info": {
   "codemirror_mode": {
    "name": "ipython",
    "version": 3
   },
   "file_extension": ".py",
   "mimetype": "text/x-python",
   "name": "python",
   "nbconvert_exporter": "python",
   "pygments_lexer": "ipython3",
   "version": "3.8.0"
  }
 },
 "nbformat": 4,
 "nbformat_minor": 5
}
