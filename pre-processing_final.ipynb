{
 "cells": [
  {
   "cell_type": "markdown",
   "id": "fde01dd6",
   "metadata": {},
   "source": [
    "## Importing required libs: "
   ]
  },
  {
   "cell_type": "code",
   "execution_count": 2,
   "id": "b669abab",
   "metadata": {},
   "outputs": [],
   "source": [
    "import pandas as pd\n",
    "import glob\n",
    "import os\n",
    "from pandas_ods_reader import read_ods\n",
    "import warnings\n",
    "import concurrent.futures\n",
    "import psutil\n",
    "import csv\n",
    "import re"
   ]
  },
  {
   "cell_type": "markdown",
   "id": "15e78a67",
   "metadata": {},
   "source": [
    "### Ignoring errors: "
   ]
  },
  {
   "cell_type": "code",
   "execution_count": 3,
   "id": "7cc64852",
   "metadata": {},
   "outputs": [],
   "source": [
    "warnings.filterwarnings(\"ignore\")"
   ]
  },
  {
   "cell_type": "markdown",
   "id": "3e2c809c",
   "metadata": {},
   "source": [
    "# Pre-processing"
   ]
  },
  {
   "cell_type": "markdown",
   "id": "c36360dd",
   "metadata": {},
   "source": [
    "# Part 1 -  \n",
    "# Having a first look at the files:"
   ]
  },
  {
   "cell_type": "markdown",
   "id": "1e60e739",
   "metadata": {},
   "source": [
    "## We currently have 5 different data sources:  "
   ]
  },
  {
   "cell_type": "markdown",
   "id": "a3e86a53",
   "metadata": {},
   "source": [
    "### A - (Sales notifications of all compounded drugs that have restricted sales in Brazil, like antidepressants, antibiotics, etc.) \n",
    "\n",
    "Example: \"project_data\\raw_anvisa_files\\manipulated_meds\\EDA_Manipulados_201401.csv\"   \n",
    "(93 files in this dir ranging from 2014JAN ~ 2021NOV)   "
   ]
  },
  {
   "cell_type": "markdown",
   "id": "3362b4ec",
   "metadata": {},
   "source": [
    "### B - (Sales notifications of all industrialized drugs that have restricted sales in Brazil, like antidepressants, antibiotics, etc.)\n",
    "\n",
    "Example: \"project_data\\raw_anvisa_files\\industrialized_meds\\EDA_Industrializados_201401.csv\"   \n",
    "(93 files in this dir ranging from 2014JAN ~ 2021NOV)"
   ]
  },
  {
   "cell_type": "markdown",
   "id": "245b7705",
   "metadata": {},
   "source": [
    "### C - (Notifications of all obituaries in Brazil)\n",
    "\n",
    "Example: \"project_data\\raw_sim_files\\Mortalidade_Geral_2014.csv\"  \n",
    "(8 files ranging yearly from 2014 to 2021)"
   ]
  },
  {
   "cell_type": "markdown",
   "id": "8a873268",
   "metadata": {},
   "source": [
    "### D - (Brazilian cities' total area)\n",
    "Example:\"\\project_data\\ibge_demographic\\br_city_area.ods\"  \n",
    "(A single file from 2023) \n",
    "\n",
    "\n",
    "\n",
    "### E - (Brazilian cities' population)\n",
    "Example: \"\\project_data\\ibge_demographic\\br_city_population.ods\"   \n",
    "(A single file from 2021) \n",
    "\n"
   ]
  },
  {
   "cell_type": "markdown",
   "id": "d6a0ed67",
   "metadata": {},
   "source": [
    "# Part 2 -\n",
    "# Now let's check column names in all paths:"
   ]
  },
  {
   "cell_type": "markdown",
   "id": "aded15d6",
   "metadata": {},
   "source": [
    "## 2.1 Defining all \"file\" paths:"
   ]
  },
  {
   "cell_type": "code",
   "execution_count": 54,
   "id": "c5d0687e",
   "metadata": {},
   "outputs": [],
   "source": [
    "file_path_a = (\n",
    "    r\"(...)\\projects\\My_2ndEDA_Drug_Resistent_Bacteria\"\n",
    "    r\"\\project_data\\raw_anvisa_files\\manipulated_meds\\EDA_Manipulados_201401.csv\"\n",
    ")\n",
    "\n",
    "file_path_b = (\n",
    "    r\"(...)\\projects\\My_2ndEDA_Drug_Resistent_Bacteria\"\n",
    "    r\"\\project_data\\raw_anvisa_files\\industrialized_meds\\EDA_Industrializados_201401.csv\"\n",
    ")\n",
    "\n",
    "file_path_c = (\n",
    "    r\"(...)\\projects\\My_2ndEDA_Drug_Resistent_Bacteria\"\n",
    "    r\"\\My_2ndEDA_Drug_Resistent_Bacteria\\project_data\\raw_sim_files\\Mortalidade_Geral_2014.csv\"\n",
    ")\n",
    "\n",
    "file_path_d = (\n",
    "    r\"(...)\\projects\\My_2ndEDA_Drug_Resistent_Bacteria\"\n",
    "    r\"\\project_data\\ibge_demographic\\br_city_area.ods\"\n",
    ")\n",
    "\n",
    "\n",
    "file_path_e = (\n",
    "   r\"(...)\\projects\\My_2ndEDA_Drug_Resistent_Bacteria\"\n",
    "   r\"\\project_data\\ibge_demographic\\br_city_population.ods\"\n",
    ")"
   ]
  },
  {
   "cell_type": "markdown",
   "id": "72de1feb",
   "metadata": {},
   "source": [
    "## 2.2 Defining function to read path and return column names:"
   ]
  },
  {
   "cell_type": "code",
   "execution_count": 5,
   "id": "b084196a",
   "metadata": {},
   "outputs": [],
   "source": [
    "def get_column_names(file_path):\n",
    "    # Check the file extension to determine the type of reading\n",
    "    if file_path.endswith(\".csv\"):\n",
    "        # CSV file reading\n",
    "        df = pd.read_csv(file_path, delimiter=';', encoding='cp1252', error_bad_lines=False)\n",
    "        return df.columns.tolist()\n",
    "    elif file_path.endswith(\".ods\"):\n",
    "        # ODS file reading\n",
    "        df = read_ods(file_path, 1)\n",
    "        return df.columns.tolist()\n",
    "    else:\n",
    "        raise ValueError(\"Unsupported file format: use CSV or ODS\")"
   ]
  },
  {
   "cell_type": "markdown",
   "id": "df17e198",
   "metadata": {},
   "source": [
    "### - A)"
   ]
  },
  {
   "cell_type": "code",
   "execution_count": 50,
   "id": "e3c9cf3f",
   "metadata": {
    "scrolled": true
   },
   "outputs": [
    {
     "name": "stdout",
     "output_type": "stream",
     "text": [
      "['ANO_VENDA', 'MES_VENDA', 'UF_VENDA', 'MUNICIPIO_VENDA', 'PRINCIPIO_ATIVO', 'QTD_ATIVO_POR_UNID_FARMACOTEC', 'UNIDADE_MEDIDA_PRINCIPIO_ATIVO', 'QTD_UNIDADE_FARMACOTECNICA', 'TIPO_UNIDADE_FARMACOTECNICA', 'CID10', 'SEXO', 'IDADE', 'UNIDADE_IDADE']\n"
     ]
    }
   ],
   "source": [
    "column_names_a = get_column_names(file_path_a)\n",
    "print(column_names_a)"
   ]
  },
  {
   "cell_type": "markdown",
   "id": "bcbe4dfd",
   "metadata": {},
   "source": [
    "### - B)  "
   ]
  },
  {
   "cell_type": "code",
   "execution_count": 52,
   "id": "24dd789d",
   "metadata": {},
   "outputs": [
    {
     "name": "stdout",
     "output_type": "stream",
     "text": [
      "['ANO_VENDA', 'MES_VENDA', 'UF_VENDA', 'MUNICIPIO_VENDA', 'PRINCIPIO_ATIVO', 'DESCRICAO_APRESENTACAO', 'QTD_VENDIDA', 'UNIDADE_MEDIDA', 'CONSELHO_PRESCRITOR', 'UF_CONSELHO_PRESCRITOR', 'TIPO_RECEITUARIO', 'CID10', 'SEXO', 'IDADE', 'UNIDADE_IDADE']\n"
     ]
    }
   ],
   "source": [
    "column_names_b = get_column_names(file_path_b)\n",
    "print(column_names_b)"
   ]
  },
  {
   "cell_type": "markdown",
   "id": "a86f452d",
   "metadata": {},
   "source": [
    "### - C)  "
   ]
  },
  {
   "cell_type": "code",
   "execution_count": 53,
   "id": "f56adf0d",
   "metadata": {},
   "outputs": [
    {
     "name": "stdout",
     "output_type": "stream",
     "text": [
      "['CONTADOR', 'ORIGEM', 'TIPOBITO', 'DTOBITO', 'HORAOBITO', 'NATURAL', 'CODMUNNATU', 'DTNASC', 'IDADE', 'SEXO', 'RACACOR', 'ESTCIV', 'ESC', 'ESC2010', 'SERIESCFAL', 'OCUP', 'CODMUNRES', 'LOCOCOR', 'CODESTAB', 'ESTABDESCR', 'CODMUNOCOR', 'IDADEMAE', 'ESCMAE', 'ESCMAE2010', 'SERIESCMAE', 'OCUPMAE', 'QTDFILVIVO', 'QTDFILMORT', 'GRAVIDEZ', 'SEMAGESTAC', 'GESTACAO', 'PARTO', 'OBITOPARTO', 'PESO', 'TPMORTEOCO', 'OBITOGRAV', 'OBITOPUERP', 'ASSISTMED', 'EXAME', 'CIRURGIA', 'NECROPSIA', 'LINHAA', 'LINHAB', 'LINHAC', 'LINHAD', 'LINHAII', 'CAUSABAS', 'CB_PRE', 'COMUNSVOIM', 'DTATESTADO', 'CIRCOBITO', 'ACIDTRAB', 'FONTE', 'NUMEROLOTE', 'TPPOS', 'DTINVESTIG', 'CAUSABAS_O', 'DTCADASTRO', 'ATESTANTE', 'STCODIFICA', 'CODIFICADO', 'VERSAOSIST', 'VERSAOSCB', 'FONTEINV', 'DTRECEBIM', 'ATESTADO', 'DTRECORIGA', 'CAUSAMAT', 'ESCMAEAGR1', 'ESCFALAGR1', 'STDOEPIDEM', 'STDONOVA', 'DIFDATA', 'NUDIASOBCO', 'NUDIASOBIN', 'DTCADINV', 'TPOBITOCOR', 'DTCONINV', 'FONTES', 'TPRESGINFO', 'TPNIVELINV', 'NUDIASINF', 'DTCADINF', 'MORTEPARTO', 'DTCONCASO', 'FONTESINF', 'ALTCAUSA']\n"
     ]
    }
   ],
   "source": [
    "column_names_c = get_column_names(file_path_c)\n",
    "print(column_names_c)"
   ]
  },
  {
   "cell_type": "markdown",
   "id": "7b9a2794",
   "metadata": {},
   "source": [
    "### - D)  "
   ]
  },
  {
   "cell_type": "code",
   "execution_count": 54,
   "id": "5ca3ee37",
   "metadata": {},
   "outputs": [
    {
     "name": "stdout",
     "output_type": "stream",
     "text": [
      "['ID', 'CD_UF', 'NM_UF', 'NM_UF_SIGLA', 'CD_MUN', 'NM_MUN', 'AR_MUN_2022']\n"
     ]
    }
   ],
   "source": [
    "column_names_d = get_column_names(file_path_d)\n",
    "print(column_names_d)"
   ]
  },
  {
   "cell_type": "markdown",
   "id": "b8820a48",
   "metadata": {},
   "source": [
    "### - E)  "
   ]
  },
  {
   "cell_type": "code",
   "execution_count": 55,
   "id": "46bd84bd",
   "metadata": {},
   "outputs": [
    {
     "name": "stdout",
     "output_type": "stream",
     "text": [
      "['UF', 'COD. UF', 'COD. MUNIC', 'NOME DO MUNICÍPIO', ' POPULAÇÃO ESTIMADA ']\n"
     ]
    }
   ],
   "source": [
    "column_names_e = get_column_names(file_path_e)\n",
    "print(column_names_e)"
   ]
  },
  {
   "cell_type": "markdown",
   "id": "c3e03b59",
   "metadata": {},
   "source": [
    "# Part 3 - \n",
    "# Joining D and E files:"
   ]
  },
  {
   "cell_type": "markdown",
   "id": "45ef349b",
   "metadata": {},
   "source": [
    "## 3.1 - Doing a inner join with D and E\n",
    "\n",
    "D represents the local directory containing data for the total area of cities, while E represents the file containing the total population of cities. Since both files are relatively small, it makes sense to perform this operation with Pandas, conducting an inner join based on the city code, and subsequently modifying it for compatibility with an SQL-supported extension."
   ]
  },
  {
   "cell_type": "code",
   "execution_count": 55,
   "id": "986586e3",
   "metadata": {},
   "outputs": [
    {
     "name": "stdout",
     "output_type": "stream",
     "text": [
      "  ID CD_UF     NM_UF NM_UF_SIGLA   CD_MUN                 NM_MUN  AR_MUN_2022  \\\n",
      "0  1    11  Rondônia          RO  1100015  Alta Floresta D'Oeste     7067.127   \n",
      "1  2    11  Rondônia          RO  1100023              Ariquemes     4426.571   \n",
      "2  3    11  Rondônia          RO  1100031                 Cabixi     1314.352   \n",
      "3  4    11  Rondônia          RO  1100049                 Cacoal     3793.000   \n",
      "4  5    11  Rondônia          RO  1100056             Cerejeiras     2783.300   \n",
      "\n",
      "   POPULAÇÃO ESTIMADA   \n",
      "0              22516.0  \n",
      "1             111148.0  \n",
      "2               5067.0  \n",
      "3              86416.0  \n",
      "4              16088.0  \n"
     ]
    }
   ],
   "source": [
    "# 3.2 Reading the data\n",
    "df_d = read_ods(file_path_d, 1)\n",
    "df_e = read_ods(file_path_e, 1)\n",
    "\n",
    "# 3.3 Merge the DataFrames based on the common column 'NM_MUN' in df_d and 'NOME DO MUNICÍPIO' in df_e\n",
    "merged_df = df_d.merge(df_e[['NOME DO MUNICÍPIO', ' POPULAÇÃO ESTIMADA ']], left_on='NM_MUN', right_on='NOME DO MUNICÍPIO', how='inner')\n",
    "\n",
    "# 3.4 Drop the redundant 'NOME DO MUNICÍPIO' column\n",
    "merged_df.drop(columns=['NOME DO MUNICÍPIO'], inplace=True)\n",
    "\n",
    "# 3.5 Rename the merged DataFrame to 'city_area_population'\n",
    "city_area_population = merged_df\n",
    "\n",
    "# Step 5: Save the DataFrame as a CSV file\n",
    "# 3.6 Save the 'city_area_population' DataFrame as a CSV file in the same directory\n",
    "output_file_path = r\"(...)\\projects\\My_2ndEDA_Drug_Resistent_Bacteria\\project_data\\ibge_demographic\\city_area_population.csv\"\n",
    "city_area_population.to_csv(output_file_path, index=False)\n",
    "\n",
    "# Step 6: Display the first few rows of the DataFrame\n",
    "\n",
    "# 3.7 Print the first few rows of the 'city_area_population' DataFrame\n",
    "print(city_area_population.head())"
   ]
  },
  {
   "cell_type": "markdown",
   "id": "dafd9e21",
   "metadata": {},
   "source": [
    "# Part 4 -\n",
    "# Finding max column lenghts to create trustworthy target table in SQL for each file and their respective dir: "
   ]
  },
  {
   "cell_type": "markdown",
   "id": "979a27a9",
   "metadata": {},
   "source": [
    "## 4.1 Defining a function that iterates through each file in a folder and counts the maximum number of characters in each column or characteristc."
   ]
  },
  {
   "cell_type": "code",
   "execution_count": 2,
   "id": "f29ab441",
   "metadata": {},
   "outputs": [],
   "source": [
    "# Function to find the maximum length values per column in a CSV file\n",
    "def find_max_lengths(file_path):\n",
    "    max_lengths = {}\n",
    "\n",
    "    chunk_size = 30000  # Chunk size\n",
    "\n",
    "    for chunk in pd.read_csv(file_path, sep=';', encoding='cp1252', chunksize=chunk_size):\n",
    "        for col in chunk.columns:\n",
    "            max_length = chunk[col].apply(lambda x: len(str(x))).max()\n",
    "            if col in max_lengths:\n",
    "                if max_length > max_lengths[col]:\n",
    "                    max_lengths[col] = max_length\n",
    "            else: \n",
    "                max_lengths[col] = max_length\n",
    "\n",
    "    return max_lengths\n",
    "\n",
    "# Function to process a folder with concurrent features and limit to 60% of the computational power\n",
    "def process_folder_with_limited_concurrency(folder_path, cpu_percentage=0.6):\n",
    "    max_lengths = {}\n",
    "\n",
    "    # Calculate the maximum number of threads based on the CPU capacity percentage\n",
    "    max_threads = int(psutil.cpu_count(logical=False) * cpu_percentage)\n",
    "\n",
    "    with concurrent.futures.ThreadPoolExecutor(max_workers=max_threads) as executor:\n",
    "        file_paths = [os.path.join(folder_path, filename) for filename in os.listdir(folder_path) if filename.endswith(\".csv\")]\n",
    "        results = list(executor.map(find_max_lengths, file_paths))\n",
    "\n",
    "    for result in results:\n",
    "        for col, max_length in result.items():\n",
    "            if col in max_lengths:\n",
    "                if max_length > max_lengths[col]:\n",
    "                    max_lengths[col] = max_length\n",
    "            else:\n",
    "                max_lengths[col] = max_length\n",
    "\n",
    "    return max_lengths"
   ]
  },
  {
   "cell_type": "markdown",
   "id": "86186902",
   "metadata": {},
   "source": [
    "## 4.2 Defining \"folders\":"
   ]
  },
  {
   "cell_type": "code",
   "execution_count": 4,
   "id": "c92da3c2",
   "metadata": {},
   "outputs": [],
   "source": [
    "folder_path_a = r\"(...)\\projects\\My_2ndEDA_Drug_Resistent_Bacteria\\project_data\\raw_anvisa_files\\industrialized_meds\"\n",
    "folder_path_b = r\"(...)\\projects\\My_2ndEDA_Drug_Resistent_Bacteria\\project_data\\raw_anvisa_files\\manipulated_meds\"\n",
    "folder_path_c = r\"(...)\\projects\\My_2ndEDA_Drug_Resistent_Bacteria\\project_data\\raw_sim_files\"\n",
    "file_path_demographics = r\"(...)\\projects\\My_2ndEDA_Drug_Resistent_Bacteria\\project_data\\ibge_demographic\\city_area_population.csv\"\n"
   ]
  },
  {
   "cell_type": "markdown",
   "id": "e800e2cc",
   "metadata": {},
   "source": [
    "## 4.3 Using the function to retrieve values for A~D files "
   ]
  },
  {
   "cell_type": "markdown",
   "id": "7956452c",
   "metadata": {},
   "source": [
    "# A: "
   ]
  },
  {
   "cell_type": "code",
   "execution_count": 6,
   "id": "ff496c60",
   "metadata": {},
   "outputs": [
    {
     "name": "stdout",
     "output_type": "stream",
     "text": [
      "{'ANO_VENDA': 4, 'MES_VENDA': 2, 'UF_VENDA': 2, 'MUNICIPIO_VENDA': 32, 'PRINCIPIO_ATIVO': 602, 'DESCRICAO_APRESENTACAO': 144, 'QTD_VENDIDA': 7, 'UNIDADE_MEDIDA': 6, 'CONSELHO_PRESCRITOR': 4, 'UF_CONSELHO_PRESCRITOR': 2, 'TIPO_RECEITUARIO': 3, 'CID10': 4, 'SEXO': 3, 'IDADE': 5, 'UNIDADE_IDADE': 3}\n"
     ]
    }
   ],
   "source": [
    "folder_path = folder_path_a\n",
    "max_lengths = process_folder_with_limited_concurrency(folder_path)\n",
    "print(max_lengths)"
   ]
  },
  {
   "cell_type": "markdown",
   "id": "cb5f8b40",
   "metadata": {},
   "source": [
    "# B: "
   ]
  },
  {
   "cell_type": "code",
   "execution_count": 50,
   "id": "3d60ff6a",
   "metadata": {},
   "outputs": [
    {
     "name": "stdout",
     "output_type": "stream",
     "text": [
      "{'ANO_VENDA': 4, 'MES_VENDA': 2, 'UF_VENDA': 2, 'MUNICIPIO_VENDA': 27, 'PRINCIPIO_ATIVO': 45, 'QTD_ATIVO_POR_UNID_FARMACOTEC': 11, 'UNIDADE_MEDIDA_PRINCIPIO_ATIVO': 9, 'QTD_UNIDADE_FARMACOTECNICA': 12, 'TIPO_UNIDADE_FARMACOTECNICA': 10, 'CID10': 4, 'SEXO': 3, 'IDADE': 5, 'UNIDADE_IDADE': 3}\n"
     ]
    }
   ],
   "source": [
    "folder_path = folder_path_b\n",
    "max_lengths = process_folder_with_limited_concurrency(folder_path)\n",
    "print(max_lengths)"
   ]
  },
  {
   "cell_type": "markdown",
   "id": "54460662",
   "metadata": {},
   "source": [
    "# C:"
   ]
  },
  {
   "cell_type": "code",
   "execution_count": 71,
   "id": "7ac6fc38",
   "metadata": {},
   "outputs": [
    {
     "name": "stdout",
     "output_type": "stream",
     "text": [
      "{'CONTADOR': 7, 'ORIGEM': 1, 'TIPOBITO': 1, 'DTOBITO': 8, 'HORAOBITO': 7, 'NATURAL': 5, 'CODMUNNATU': 8, 'DTNASC': 10, 'IDADE': 3, 'SEXO': 1, 'RACACOR': 3, 'ESTCIV': 3, 'ESC': 3, 'ESC2010': 3, 'SERIESCFAL': 3, 'OCUP': 8, 'CODMUNRES': 6, 'LOCOCOR': 3, 'CODESTAB': 9, 'ESTABDESCR': 40, 'CODMUNOCOR': 6, 'IDADEMAE': 4, 'ESCMAE': 3, 'ESCMAE2010': 3, 'SERIESCMAE': 3, 'OCUPMAE': 8, 'QTDFILVIVO': 4, 'QTDFILMORT': 4, 'GRAVIDEZ': 3, 'SEMAGESTAC': 4, 'GESTACAO': 3, 'PARTO': 3, 'OBITOPARTO': 3, 'PESO': 6, 'TPMORTEOCO': 3, 'OBITOGRAV': 3, 'OBITOPUERP': 3, 'ASSISTMED': 3, 'EXAME': 3, 'CIRURGIA': 3, 'NECROPSIA': 3, 'LINHAA': 20, 'LINHAB': 20, 'LINHAC': 20, 'LINHAD': 20, 'LINHAII': 30, 'CAUSABAS': 4, 'CB_PRE': 4, 'COMUNSVOIM': 8, 'DTATESTADO': 10, 'CIRCOBITO': 3, 'ACIDTRAB': 3, 'FONTE': 3, 'NUMEROLOTE': 10, 'TPPOS': 3, 'DTINVESTIG': 10, 'CAUSABAS_O': 4, 'DTCADASTRO': 10, 'ATESTANTE': 3, 'STCODIFICA': 3, 'CODIFICADO': 3, 'VERSAOSIST': 6, 'VERSAOSCB': 4, 'FONTEINV': 3, 'DTRECEBIM': 10, 'ATESTADO': 50, 'DTRECORIGA': 10, 'CAUSAMAT': 4, 'ESCMAEAGR1': 4, 'ESCFALAGR1': 4, 'STDOEPIDEM': 3, 'STDONOVA': 3, 'DIFDATA': 5, 'NUDIASOBCO': 6, 'NUDIASOBIN': 5, 'DTCADINV': 10, 'TPOBITOCOR': 3, 'DTCONINV': 10, 'FONTES': 6, 'TPRESGINFO': 3, 'TPNIVELINV': 3, 'NUDIASINF': 5, 'DTCADINF': 10, 'MORTEPARTO': 3, 'DTCONCASO': 10, 'FONTESINF': 7, 'ALTCAUSA': 3}\n"
     ]
    }
   ],
   "source": [
    "folder_path = folder_path_c\n",
    "max_lengths = process_folder_with_limited_concurrency(folder_path)\n",
    "print(max_lengths)"
   ]
  },
  {
   "cell_type": "markdown",
   "id": "e3406747",
   "metadata": {},
   "source": [
    "# D: \n",
    "### (In this case we only need to check values for the single \"joined\" file)"
   ]
  },
  {
   "cell_type": "code",
   "execution_count": 27,
   "id": "c849289d",
   "metadata": {},
   "outputs": [
    {
     "name": "stdout",
     "output_type": "stream",
     "text": [
      "Maximum length for column 'ID': 4\n",
      "Maximum length for column 'CD_UF': 2\n",
      "Maximum length for column 'NM_UF': 19\n",
      "Maximum length for column 'NM_UF_SIGLA': 2\n",
      "Maximum length for column 'CD_MUN': 7\n",
      "Maximum length for column 'NM_MUN': 32\n",
      "Maximum length for column 'AR_MUN_2022': 10\n",
      "Maximum length for column ' POPULAÇÃO ESTIMADA ': 11\n"
     ]
    }
   ],
   "source": [
    "try:\n",
    "    # Read the CSV file with UTF-8 encoding\n",
    "    df = pd.read_csv(file_path_demographics, encoding='utf-8')\n",
    "\n",
    "    # Calculate the length of each element in each cell\n",
    "    column_lengths = df.applymap(lambda x: len(str(x)))\n",
    "\n",
    "    # Display the maximum lengths for each column\n",
    "    for col in column_lengths.columns:\n",
    "        print(f\"Maximum length for column '{col}': {column_lengths[col].max()}\")\n",
    "\n",
    "except Exception as e:\n",
    "    print(f\"Error reading the file: {e}\")"
   ]
  },
  {
   "cell_type": "markdown",
   "id": "2b4b6415",
   "metadata": {},
   "source": [
    "# Part 5 - \n",
    "# Counting number of rows in each file to verify data integrity after insertions"
   ]
  },
  {
   "cell_type": "markdown",
   "id": "abb3e408",
   "metadata": {},
   "source": [
    "# 5.1 - Defining the function:"
   ]
  },
  {
   "cell_type": "code",
   "execution_count": 34,
   "id": "84ed68ba",
   "metadata": {},
   "outputs": [],
   "source": [
    "# Function to count rows in a CSV file\n",
    "def count_rows_in_file(file_path, encoding='cp1258'):\n",
    "    try:\n",
    "        with open(file_path, 'r', newline='', encoding=encoding) as file:\n",
    "            csv_reader = csv.reader(file)\n",
    "            row_count = sum(1 for _ in csv_reader)\n",
    "        return row_count\n",
    "    except UnicodeDecodeError:\n",
    "        print(f\"UnicodeDecodeError: Could not read the file {file_path}.\")\n",
    "        return 0  # Return 0 for files that cannot be decoded\n",
    "\n",
    "# Function to count rows in all CSV files in a folder and create a report\n",
    "def create_report(folder_path, output_file_path):\n",
    "    row_counts = {}\n",
    "\n",
    "    # List all CSV files in the folder\n",
    "    csv_files = [f for f in os.listdir(folder_path) if f.endswith('.csv')]\n",
    "\n",
    "    for filename in csv_files:\n",
    "        file_path = os.path.join(folder_path, filename)\n",
    "        row_count = count_rows_in_file(file_path)\n",
    "\n",
    "        # Extract year and month from the filename\n",
    "        match = re.search(r'_(\\d{4})(\\d{2})?\\.csv', filename)  # Updated regex pattern\n",
    "        if match:\n",
    "            year = match.group(1)\n",
    "            month = match.group(2)\n",
    "            if month is None:\n",
    "                month = ''  # Set month to empty string for files without month\n",
    "\n",
    "            key = f\"{year};{month}\"\n",
    "\n",
    "            if key in row_counts:\n",
    "                row_counts[key] += row_count\n",
    "            else:\n",
    "                row_counts[key] = row_count\n",
    "\n",
    "    # Convert row_counts to a DataFrame\n",
    "    report_df = pd.DataFrame(list(row_counts.items()), columns=[\"year;month\", \"count\"])\n",
    "\n",
    "    # Split the \"year;month\" column into two columns: \"year\" and \"month\"\n",
    "    report_df[[\"year\", \"month\"]] = report_df[\"year;month\"].str.split(\";\", expand=True)\n",
    "\n",
    "    # Now you can rename the columns\n",
    "    report_df = report_df[[\"year\", \"month\", \"count\"]]\n",
    "\n",
    "    # Save the report to the CSV file\n",
    "    report_df.to_csv(output_file_path, index=False, sep=';', decimal=',', header=True)\n",
    "\n",
    "    # Display the first few rows of the report\n",
    "    print(report_df.head())\n",
    "\n"
   ]
  },
  {
   "cell_type": "markdown",
   "id": "186ecf7a",
   "metadata": {},
   "source": [
    "# 5.2 Calling the report function:\n",
    "### We need to provide two arguments to generate the report that counts number of rows per file in each different dir: \n",
    "\n",
    "\"folder_path\" and \"output_file_path\": EX:"
   ]
  },
  {
   "cell_type": "markdown",
   "id": "e025024b",
   "metadata": {},
   "source": [
    "# 'A' folder: "
   ]
  },
  {
   "cell_type": "code",
   "execution_count": 37,
   "id": "01abd1d0",
   "metadata": {},
   "outputs": [
    {
     "name": "stdout",
     "output_type": "stream",
     "text": [
      "   year month    count\n",
      "0  2014    01  4663124\n",
      "1  2014    02  4461102\n",
      "2  2014    03  4770799\n",
      "3  2014    04  4959036\n",
      "4  2014    05  5257119\n"
     ]
    }
   ],
   "source": [
    "# Set the folder path to folder_path_a\n",
    "folder_path = folder_path_a \n",
    "\n",
    "# Define the path for the output CSV file\n",
    "output_file_path = (r\"(...)\\projects\\My_2ndEDA_Drug_Resistent_Bacteria\\project_data\\validation_reports\\validation_report_a.csv\")\n",
    "\n",
    "create_report(folder_path, output_file_path)\n",
    "\n"
   ]
  },
  {
   "cell_type": "markdown",
   "id": "761bf5c7",
   "metadata": {},
   "source": [
    "# 'B' folder: "
   ]
  },
  {
   "cell_type": "code",
   "execution_count": 39,
   "id": "f7cc71ac",
   "metadata": {},
   "outputs": [
    {
     "name": "stdout",
     "output_type": "stream",
     "text": [
      "   year month   count\n",
      "0  2014    01  272874\n",
      "1  2014    02  277087\n",
      "2  2014    03  272527\n",
      "3  2014    04  283229\n",
      "4  2014    05  295848\n"
     ]
    }
   ],
   "source": [
    "# Set the folder path to folder_path_b:\n",
    "folder_path = folder_path_b  \n",
    " \n",
    "# Define the path for the output CSV file:\n",
    "output_file_path = (r\"(...)\\projects\\My_2ndEDA_Drug_Resistent_Bacteria\\project_data\\validation_reports\\validation_report_b.csv\")  \n",
    "\n",
    "create_report(folder_path, output_file_path)\n",
    "\n"
   ]
  },
  {
   "cell_type": "markdown",
   "id": "629afbcb",
   "metadata": {},
   "source": [
    "# 'C' folder: "
   ]
  },
  {
   "cell_type": "code",
   "execution_count": 40,
   "id": "48914888",
   "metadata": {},
   "outputs": [
    {
     "name": "stdout",
     "output_type": "stream",
     "text": [
      "   year month    count\n",
      "0  2014        1227040\n",
      "1  2015        1264176\n",
      "2  2016        1309775\n",
      "3  2017        1312664\n",
      "4  2018        1316720\n"
     ]
    }
   ],
   "source": [
    "# Set the folder path to folder_path_c:\n",
    "folder_path = folder_path_c  \n",
    "\n",
    "# Define the path for the output CSV file:\n",
    "output_file_path = (r\"(...)\\projects\\My_2ndEDA_Drug_Resistent_Bacteria\\project_data\\validation_reports\\validation_report_c.csv\")\n",
    "\n",
    "create_report(folder_path, output_file_path)"
   ]
  },
  {
   "cell_type": "markdown",
   "id": "c5b32bd2",
   "metadata": {},
   "source": [
    "# 'D' folder: \n",
    "\"The 'd' directory does not contain either years or months, so we only need to count the number of rows.\""
   ]
  },
  {
   "cell_type": "code",
   "execution_count": 43,
   "id": "00d0caef",
   "metadata": {},
   "outputs": [
    {
     "name": "stdout",
     "output_type": "stream",
     "text": [
      "Total lines in the file: 6225\n"
     ]
    }
   ],
   "source": [
    "try:\n",
    "    df = pd.read_csv(file_path_demographics)\n",
    "    line_count = len(df)\n",
    "    print(f\"Total lines in the file: {line_count}\")\n",
    "except FileNotFoundError:\n",
    "    print(\"File not found.\")\n",
    "except pd.errors.EmptyDataError:\n",
    "    print(\"The file is empty or does not contain data.\")\n",
    "except pd.errors.ParserError:\n",
    "    print(\"Error parsing the CSV file.\")"
   ]
  }
 ],
 "metadata": {
  "kernelspec": {
   "display_name": "Python 3 (ipykernel)",
   "language": "python",
   "name": "python3"
  },
  "language_info": {
   "codemirror_mode": {
    "name": "ipython",
    "version": 3
   },
   "file_extension": ".py",
   "mimetype": "text/x-python",
   "name": "python",
   "nbconvert_exporter": "python",
   "pygments_lexer": "ipython3",
   "version": "3.8.0"
  }
 },
 "nbformat": 4,
 "nbformat_minor": 5
}
